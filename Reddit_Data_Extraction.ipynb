{
  "nbformat": 4,
  "nbformat_minor": 0,
  "metadata": {
    "colab": {
      "name": "Reddit Data Extraction",
      "provenance": [],
      "collapsed_sections": []
    },
    "kernelspec": {
      "display_name": "Python 3",
      "name": "python3"
    }
  },
  "cells": [
    {
      "cell_type": "code",
      "metadata": {
        "id": "kVLLx3zt6wpI"
      },
      "source": [
        "pip install pmaw pandas"
      ],
      "execution_count": null,
      "outputs": []
    },
    {
      "cell_type": "code",
      "metadata": {
        "id": "okl2k-WV7BUA"
      },
      "source": [
        "import pandas as pd\n",
        "from pmaw import PushshiftAPI\n",
        "api = PushshiftAPI()"
      ],
      "execution_count": null,
      "outputs": []
    },
    {
      "cell_type": "code",
      "metadata": {
        "id": "MR3_3NBJ7al9"
      },
      "source": [
        "import datetime as dt\n",
        "before = int(dt.datetime(2021,2,6,0,0).timestamp())\n",
        "after = int(dt.datetime(2018,2,6,0,0).timestamp())"
      ],
      "execution_count": null,
      "outputs": []
    },
    {
      "cell_type": "code",
      "metadata": {
        "colab": {
          "background_save": true
        },
        "id": "l5inBV9C73IE"
      },
      "source": [
        "subreddit=\"wallstreetbets\"\n",
        "limit = 250000\n",
        "submissions = api.search_submissions(subreddit=subreddit, limit=limit, before=before, after=after)\n",
        "print(f'Retrieved {len(submissions)} submissions from Pushshift')"
      ],
      "execution_count": null,
      "outputs": []
    },
    {
      "cell_type": "code",
      "metadata": {
        "colab": {
          "background_save": true
        },
        "id": "jPSjc_hW8DYl"
      },
      "source": [
        "sub_df = pd.DataFrame(submissions)\n",
        "# preview the comments data\n",
        "sub_df.head(5)"
      ],
      "execution_count": null,
      "outputs": []
    },
    {
      "cell_type": "code",
      "metadata": {
        "colab": {
          "background_save": true
        },
        "id": "UjfczVkDFNDt"
      },
      "source": [
        "df = sub_df"
      ],
      "execution_count": null,
      "outputs": []
    },
    {
      "cell_type": "code",
      "metadata": {
        "id": "LV4LMzoWEIkL"
      },
      "source": [
        "from google.colab import drive\n",
        "#drive.mount('drive')\n",
        "df.to_csv('wsb_submissions.csv')\n",
        "!cp wsb_submissions.csv \"drive/My Drive/\""
      ],
      "execution_count": null,
      "outputs": []
    },
    {
      "cell_type": "code",
      "metadata": {
        "id": "cWnOA_uRF2sW"
      },
      "source": [
        "pd.read_csv('./wsb_submissions.csv')"
      ],
      "execution_count": null,
      "outputs": []
    }
  ]
}